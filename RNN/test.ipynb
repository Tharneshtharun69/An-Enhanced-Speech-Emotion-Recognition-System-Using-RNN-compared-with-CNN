{
 "cells": [
  {
   "cell_type": "code",
   "execution_count": 10,
   "id": "933270ec-2bf2-4d93-9d40-13a666217583",
   "metadata": {},
   "outputs": [
    {
     "name": "stderr",
     "output_type": "stream",
     "text": [
      "WARNING:absl:Compiled the loaded model, but the compiled metrics have yet to be built. `model.compile_metrics` will be empty until you train or evaluate the model.\n"
     ]
    },
    {
     "name": "stdout",
     "output_type": "stream",
     "text": [
      "Model loaded successfully.\n",
      "Label encoder loaded successfully.\n",
      "\u001b[1m1/1\u001b[0m \u001b[32m━━━━━━━━━━━━━━━━━━━━\u001b[0m\u001b[37m\u001b[0m \u001b[1m0s\u001b[0m 187ms/step\n",
      "The predicted emotion for the audio file is: OAF_disgust\n"
     ]
    }
   ],
   "source": [
    "import numpy as np\n",
    "import librosa\n",
    "import tensorflow as tf\n",
    "import joblib\n",
    "\n",
    "# Function to preprocess a single audio file\n",
    "def preprocess_audio(file_path):\n",
    "    audio, sr = librosa.load(file_path, sr=None)  # Load audio file\n",
    "    mfcc = librosa.feature.mfcc(y=audio, sr=sr, n_mfcc=40)  # Extract MFCC features\n",
    "    mfcc_scaled = np.mean(mfcc.T, axis=0)  # Average MFCC coefficients\n",
    "    return mfcc_scaled\n",
    "\n",
    "# Load the saved model\n",
    "model = tf.keras.models.load_model('emotion_detection_model_rnn.h5')\n",
    "print(\"Model loaded successfully.\")\n",
    "\n",
    "# Load the saved label encoder\n",
    "label_encoder = joblib.load('label_encoder.pkl')\n",
    "print(\"Label encoder loaded successfully.\")\n",
    "\n",
    "# Function to make predictions\n",
    "def predict_emotion(audio_file):\n",
    "    # Preprocess the audio file\n",
    "    features = preprocess_audio(audio_file)\n",
    "    \n",
    "    # Standardize the features (assuming training mean/std was 0 and 1)\n",
    "    features = (features - np.mean(features)) / np.std(features)\n",
    "    \n",
    "    # Reshape to match the model input\n",
    "    features = features.reshape(1, -1, 1)\n",
    "    \n",
    "    # Make predictions\n",
    "    prediction = model.predict(features)\n",
    "    predicted_label_index = np.argmax(prediction)\n",
    "    \n",
    "    # Decode the label\n",
    "    predicted_emotion = label_encoder.inverse_transform([predicted_label_index])[0]\n",
    "    \n",
    "    return predicted_emotion\n",
    "\n",
    "# Test the prediction function with an example audio file\n",
    "audio_file_path = r'F:\\ABDUL\\ABDUL 2024\\EMOTION-DETETION-IN-AUDIO_CNN_RNN\\RNN\\Tess\\YAF_sad\\YAF_chain_sad.wav'  # Replace with the actual path to your test audio file\n",
    "predicted_emotion = predict_emotion(audio_file_path)\n",
    "\n",
    "print(f\"The predicted emotion for the audio file is: {predicted_emotion}\")\n"
   ]
  },
  {
   "cell_type": "code",
   "execution_count": null,
   "id": "98833a0d-ae19-4b33-a117-9275ddce48e7",
   "metadata": {},
   "outputs": [],
   "source": []
  },
  {
   "cell_type": "code",
   "execution_count": null,
   "id": "a8cd4672-2c52-4536-befe-6fb67c46ed4a",
   "metadata": {},
   "outputs": [],
   "source": []
  }
 ],
 "metadata": {
  "kernelspec": {
   "display_name": "Python 3 (ipykernel)",
   "language": "python",
   "name": "python3"
  },
  "language_info": {
   "codemirror_mode": {
    "name": "ipython",
    "version": 3
   },
   "file_extension": ".py",
   "mimetype": "text/x-python",
   "name": "python",
   "nbconvert_exporter": "python",
   "pygments_lexer": "ipython3",
   "version": "3.12.0"
  }
 },
 "nbformat": 4,
 "nbformat_minor": 5
}
